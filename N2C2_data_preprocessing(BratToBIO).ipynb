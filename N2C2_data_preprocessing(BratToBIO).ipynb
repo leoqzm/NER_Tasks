{
  "cells": [
    {
      "cell_type": "markdown",
      "metadata": {
        "id": "view-in-github",
        "colab_type": "text"
      },
      "source": [
        "<a href=\"https://colab.research.google.com/github/leoqzm/NER_Tasks/blob/main/N2C2_data_preprocessing(BratToBIO).ipynb\" target=\"_parent\"><img src=\"https://colab.research.google.com/assets/colab-badge.svg\" alt=\"Open In Colab\"/></a>"
      ]
    },
    {
      "cell_type": "markdown",
      "metadata": {
        "id": "kH5HSziZFVT9"
      },
      "source": [
        "# Pre-processing procedure for 2018 n2c2 dataset"
      ]
    },
    {
      "cell_type": "markdown",
      "metadata": {
        "id": "YfrsKBtXFVUA"
      },
      "source": [
        "## functions "
      ]
    },
    {
      "cell_type": "code",
      "execution_count": null,
      "metadata": {
        "ExecuteTime": {
          "end_time": "2021-08-06T15:51:50.595786Z",
          "start_time": "2021-08-06T15:51:50.593116Z"
        },
        "id": "jaKosREkFVUA"
      },
      "outputs": [],
      "source": [
        "from pathlib import Path\n",
        "import pickle as pkl\n",
        "from collections import defaultdict, Counter\n",
        "from itertools import permutations, combinations\n",
        "from functools import reduce\n",
        "import numpy as np\n",
        "import os\n",
        "import re"
      ]
    },
    {
      "cell_type": "code",
      "execution_count": null,
      "metadata": {
        "ExecuteTime": {
          "end_time": "2021-08-06T15:51:50.761465Z",
          "start_time": "2021-08-06T15:51:50.757078Z"
        },
        "id": "SSeSY-SdFVUC"
      },
      "outputs": [],
      "source": [
        "def pkl_save(data, file):\n",
        "    with open(file, \"wb\") as f:\n",
        "        pkl.dump(data, f)\n",
        "\n",
        "        \n",
        "def pkl_load(file):\n",
        "    with open(file, \"rb\") as f:\n",
        "        data = pkl.load(f)\n",
        "    return data\n",
        "\n",
        "\n",
        "def load_text(ifn):\n",
        "    with open(ifn, \"r\") as f:\n",
        "        txt = f.read()\n",
        "    return txt\n",
        "\n",
        "\n",
        "def save_text(text, ofn):\n",
        "    with open(ofn, \"w\") as f:\n",
        "        f.write(text)"
      ]
    },
    {
      "cell_type": "code",
      "execution_count": null,
      "metadata": {
        "ExecuteTime": {
          "end_time": "2021-08-06T15:48:08.931498Z",
          "start_time": "2021-08-06T15:48:08.923272Z"
        },
        "id": "5Z9cFSadFVUC",
        "colab": {
          "base_uri": "https://localhost:8080/"
        },
        "outputId": "4aa2b7bd-5f94-49ce-8bdd-fb9fcb23be79"
      },
      "outputs": [
        {
          "output_type": "stream",
          "name": "stdout",
          "text": [
            "Cloning into 'NLPreprocessing'...\n",
            "remote: Enumerating objects: 99, done.\u001b[K\n",
            "remote: Counting objects: 100% (99/99), done.\u001b[K\n",
            "remote: Compressing objects: 100% (65/65), done.\u001b[K\n",
            "remote: Total 99 (delta 54), reused 70 (delta 31), pack-reused 0\u001b[K\n",
            "Unpacking objects: 100% (99/99), done.\n"
          ]
        }
      ],
      "source": [
        "import sys\n",
        "!git clone https://github.com/uf-hobi-informatics-lab/NLPreprocessing\n",
        "sys.path.append(\"/content/NLPreprocessing\")\n",
        "sys.path.append(\"/content/NLPreprocessing/text_process\")\n",
        "from annotation2BIO import pre_processing, read_annotation_brat, generate_BIO\n",
        "MIMICIII_PATTERN = \"\\[\\*\\*|\\*\\*\\]\"\n",
        "from sentence_tokenization import logger as l1\n",
        "from annotation2BIO import logger as l2\n",
        "l1.disabled = True\n",
        "l2.disabled = True"
      ]
    },
    {
      "cell_type": "code",
      "execution_count": null,
      "metadata": {
        "id": "7q2NXAk5FVUD"
      },
      "outputs": [],
      "source": [
        "def create_entity_to_sent_mapping(nnsents, entities, idx2e):\n",
        "    loc_ens = []\n",
        "    \n",
        "    ll = len(nnsents)\n",
        "    mapping = defaultdict(list)\n",
        "    for idx, each in enumerate(entities):\n",
        "        en_label = idx2e[idx]\n",
        "        en_s = each[2][0]\n",
        "        en_e = each[2][1]\n",
        "        new_en = []\n",
        "        \n",
        "        i = 0\n",
        "        while i < ll and nnsents[i][1][0] < en_s:\n",
        "            i += 1\n",
        "        s_s = nnsents[i][1][0]\n",
        "        s_e = nnsents[i][1][1]\n",
        "\n",
        "        if en_s == s_s:\n",
        "            mapping[en_label].append(i)\n",
        "\n",
        "            while i < ll and s_e < en_e:\n",
        "                i += 1\n",
        "                s_e = nnsents[i][1][1]\n",
        "            if s_e == en_e:\n",
        "                 mapping[en_label].append(i)\n",
        "            else:\n",
        "                mapping[en_label].append(i)\n",
        "                print(\"last index not match \", each)\n",
        "        else:\n",
        "            mapping[en_label].append(i)\n",
        "            print(\"first index not match \", each)\n",
        "\n",
        "            while i < ll and s_e < en_e:\n",
        "                i += 1\n",
        "                s_e = nnsents[i][1][1]\n",
        "            if s_e == en_e:\n",
        "                 mapping[en_label].append(i)\n",
        "            else:\n",
        "                mapping[en_label].append(i)\n",
        "                print(\"last index not match \", each)\n",
        "    return mapping\n",
        "\n",
        "\n",
        "def get_permutated_relation_pairs(eid2idx):\n",
        "    all_pairs = []\n",
        "    all_ids = [k for k, v in eid2idx.items()]\n",
        "    for e1, e2 in permutations(all_ids, 2):\n",
        "        all_pairs.append((e1, e2))\n",
        "    return all_pairs"
      ]
    },
    {
      "cell_type": "code",
      "execution_count": null,
      "metadata": {
        "id": "o7LgExqYFVUD"
      },
      "outputs": [],
      "source": [
        "\"\"\"\n",
        "procedure:\n",
        "\n",
        "1. preprocess text into sentences\n",
        "2. find each entity associated sentence idx\n",
        "3. generate entity pairs as relation candidates\n",
        "4. extract eneity associated sentences, locate entities in pair and insert special tags\n",
        "5. save generated data\n",
        "\n",
        "result output:\n",
        "\n",
        "1. keep pos predicted relations\n",
        "2. using map files to locate relation associated entities\n",
        "3. output as brat\n",
        "\"\"\"\n",
        "def validate_rels(rels, valid):\n",
        "    nrels = []\n",
        "    for rel in rels:\n",
        "        rtype = rel[0]\n",
        "        if tuple(rtype) not in valid:\n",
        "            print(\"invalid: \", rel)\n",
        "            continue\n",
        "        nrels.append(rel)\n",
        "    return nrels\n",
        "\n",
        "\n",
        "def check_tags(s1, s2):\n",
        "    assert EN1_START in s1 and EN1_END in s1, f\"tag error: {s1}\"\n",
        "    assert EN2_START in s2 and EN2_END in s2, f\"tag error: {s2}\"\n",
        "\n",
        "\n",
        "def format_relen(en, rloc, nsents):\n",
        "    if rloc == 1:\n",
        "        spec1, spec2 = EN1_START, EN1_END\n",
        "    else:\n",
        "        spec1, spec2 = EN2_START, EN2_END\n",
        "    sn1, tn1 = en[0][3]\n",
        "    sn2, tn2 = en[-1][3]\n",
        "    target_sent = nsents[sn1]\n",
        "    target_sent = [each[0] for each in target_sent]\n",
        "    ors =  \" \".join(target_sent)\n",
        "    \n",
        "    if sn1 != sn2:\n",
        "        print(\"[!!!Warning] The entity is not in the same sentence\\n\", en)\n",
        "        tt = nsents[sn2]\n",
        "        tt = [each[0] for each in tt]\n",
        "        target_sent.insert(tn1, spec1)\n",
        "        tt.insert(tn2+1, spec2)\n",
        "        target_sent = target_sent + tt\n",
        "#         print(target_sent)\n",
        "    else:\n",
        "        target_sent.insert(tn1, spec1)\n",
        "        target_sent.insert(tn2+2, spec2)\n",
        "    \n",
        "    fs = \" \".join(target_sent)\n",
        "    \n",
        "    return sn1, sn2, fs, ors\n",
        "\n",
        "\n",
        "def gene_true_relations(rels, mappings, ens, e2i, nnsents, nsents, valid_comb, fid=None):\n",
        "    true_pairs = set()\n",
        "    pos_samples = []\n",
        "    \n",
        "    for rel in rels:\n",
        "        rel_type = rel[0]\n",
        "        enid1, enid2 = rel[1:]\n",
        "        \"\"\"\n",
        "        [['100', (15443, 15446), (16473, 16476), (231, 4), 'B-Strength'], \n",
        "        ['mg', (15447, 15449), (16477, 16479), (231, 5), 'I-Strength']] \n",
        "        [['Metoprolol', (15422, 15432), (16452, 16462), (231, 2), 'B-Drug'], \n",
        "        ['Succinate', (15433, 15442), (16463, 16472), (231, 3), 'I-Drug']]\n",
        "        \"\"\"\n",
        "        enbs1, enbe1 = mappings[enid1]\n",
        "        en1 = nnsents[enbs1: enbe1+1]\n",
        "        si1, sii1, fs1, ors1 = format_relen(en1, 1, nsents)\n",
        "        enbs2, enbe2 = mappings[enid2]\n",
        "        en2 = nnsents[enbs2: enbe2+1]\n",
        "        si2, sii2, fs2, ors2 = format_relen(en2, 2, nsents)\n",
        "        sent_diff = abs(si1 - si2)\n",
        "        \n",
        "        en1t = en1[0][-1].split(\"-\")[-1]\n",
        "        en2t = en2[0][-1].split(\"-\")[-1]\n",
        "\n",
        "        true_pairs.add((enid1, enid2))\n",
        "        \n",
        "        if (en1t, en2t) not in valid_comb:\n",
        "            continue\n",
        "        \n",
        "        if sent_diff <= CUTOFF:\n",
        "            check_tags(fs1, fs2)\n",
        "            assert (en1t, en2t) in valid_comb, f\"{en1t} {en2t}\"\n",
        "            if DO_BIN:\n",
        "                pos_samples.append((sent_diff, \"pos\", fs1, fs2, en1t, en2t, enid1, enid2, fid))\n",
        "            else:\n",
        "                pos_samples.append((sent_diff, rel_type, fs1, fs2, en1t, en2t, enid1, enid2, fid))\n",
        "\n",
        "    return pos_samples, true_pairs\n",
        "        \n",
        "\n",
        "def gene_neg_relation(perm_pairs, true_pairs, mappings, ens, e2i, nnsents, nsents, valid_comb, fid=None):\n",
        "    neg_samples = []\n",
        "    for each in perm_pairs:\n",
        "        enid1, enid2 = each\n",
        "        \n",
        "        # not in true relation\n",
        "        if (enid1, enid2) in true_pairs:\n",
        "            continue\n",
        "        \n",
        "        enc1 = ens[e2i[enid1]]\n",
        "        enc2 = ens[e2i[enid2]]\n",
        "\n",
        "        enbs1, enbe1 = mappings[enid1]\n",
        "        en1 = nnsents[enbs1: enbe1+1]\n",
        "        si1, sii1, fs1, ors1 = format_relen(en1, 1, nsents)\n",
        "        enbs2, enbe2 = mappings[enid2]\n",
        "        en2 = nnsents[enbs2: enbe2+1]\n",
        "        si2, sii2, fs2, ors2 = format_relen(en2, 2, nsents)\n",
        "        sent_diff = abs(si1 - si2)\n",
        "        \n",
        "        en1t = en1[0][-1].split(\"-\")[-1]\n",
        "        en2t = en2[0][-1].split(\"-\")[-1]\n",
        "        \n",
        "        if (en1t, en2t) not in valid_comb:\n",
        "            continue\n",
        "        \n",
        "        if sent_diff <= CUTOFF:\n",
        "            check_tags(fs1, fs2)\n",
        "            assert (en1t, en2t) in valid_comb, f\"{en1t} {en2t}\"\n",
        "            if fid:\n",
        "                neg_samples.append((sent_diff, NEG_REL, fs1, fs2, en1t, en2t, enid1, enid2, fid))\n",
        "            else:\n",
        "                neg_samples.append((sent_diff, NEG_REL, fs1, fs2, en1t, en2t, enid1, enid2))\n",
        "    \n",
        "    return neg_samples\n",
        "\n",
        "    \n",
        "def create_training_samples(file_path, valids=None, valid_comb=None):\n",
        "    fids = []\n",
        "    root = Path(file_path)\n",
        "    \n",
        "    dpos = defaultdict(list)\n",
        "    dneg = defaultdict(list)\n",
        "    \n",
        "    for txt_fn in root.glob(\"*.txt\"):\n",
        "        fids.append(txt_fn.stem)\n",
        "        ann_fn = root / (txt_fn.stem+\".ann\")\n",
        "\n",
        "        # load text\n",
        "        txt = load_text(txt_fn)\n",
        "        pre_txt, sents = pre_processing(txt_fn, deid_pattern=MIMICIII_PATTERN)\n",
        "        e2i, ens, rels = read_annotation_brat(ann_fn)\n",
        "        i2e = {v: k for k, v in e2i.items()}\n",
        "        \n",
        "        nsents, sent_bound = generate_BIO(sents, ens, file_id=\"\", no_overlap=False, record_pos=True)\n",
        "        print(nsents)\n",
        "        total_len = len(nsents)\n",
        "        nnsents = [w for sent in nsents for w in sent]\n",
        "        mappings = create_entity_to_sent_mapping(nnsents, ens, i2e)\n",
        "\n",
        "        pos_samples, true_pairs = gene_true_relations(\n",
        "            rels, mappings, ens, e2i, nnsents, nsents, valid_comb, fid=txt_fn.stem)\n",
        "        perm_pairs = get_permutated_relation_pairs(e2i)\n",
        "        neg_samples = gene_neg_relation(\n",
        "            perm_pairs, true_pairs, mappings, ens, e2i, nnsents, nsents, valid_comb, fid=txt_fn.stem)\n",
        "        \n",
        "        for pos_sample in pos_samples:\n",
        "            dpos[pos_sample[0]].append(pos_sample)\n",
        "        for neg_sample in neg_samples:\n",
        "            dneg[neg_sample[0]].append(neg_sample)\n",
        "        \n",
        "    return dpos, dneg\n",
        "\n",
        "\n",
        "def create_test_samples(file_path, valids=None, valid_comb=None):\n",
        "    #create a separate mapping file\n",
        "    rel_mappings = []\n",
        "    #\n",
        "    fids = []\n",
        "    root = Path(file_path)\n",
        "    preds = defaultdict(list)\n",
        "    \n",
        "    for txt_fn in root.glob(\"*.txt\"):\n",
        "        fids.append(txt_fn.stem)\n",
        "        ann_fn = root / (txt_fn.stem + \".ann\")\n",
        "\n",
        "        # load text\n",
        "        txt = load_text(txt_fn)\n",
        "        pre_txt, sents = pre_processing(txt_fn, deid_pattern=MIMICIII_PATTERN)\n",
        "        e2i, ens, _ = read_annotation_brat(ann_fn)\n",
        "        i2e = {v: k for k, v in e2i.items()}\n",
        "        \n",
        "        nsents, sent_bound = generate_BIO(sents, ens, file_id=\"\", no_overlap=False, record_pos=True)\n",
        "        total_len = len(nsents)\n",
        "        nnsents = [w for sent in nsents for w in sent]\n",
        "        mappings = create_entity_to_sent_mapping(nnsents, ens, i2e)\n",
        "        \n",
        "        perm_pairs = get_permutated_relation_pairs(e2i)\n",
        "        pred = gene_neg_relation(perm_pairs, set(), mappings, ens, e2i, nnsents, nsents, valid_comb, fid=txt_fn.stem)\n",
        "        for idx, pred_s in enumerate(pred):\n",
        "            preds[pred_s[0]].append(pred_s)\n",
        "            \n",
        "    return preds"
      ]
    },
    {
      "cell_type": "code",
      "execution_count": null,
      "metadata": {
        "id": "DqildwhFFVUF"
      },
      "outputs": [],
      "source": [
        "def en_sent_id(en_pos, send_bound):\n",
        "    e_s = en_pos[0]\n",
        "    e_e = en_pos[1]\n",
        "    for k, v in sent_bound.items():\n",
        "        s_s = v[0]\n",
        "        s_e = v[1]\n",
        "        if e_s >= s_s and e_s <= s_e and e_e >s_e :\n",
        "            print(\"entity is in two sentence\")\n",
        "        if e_s >= s_s and e_s <= s_e:\n",
        "            return k\n",
        "        \n",
        "\n",
        "def extract_entity_comb_for_relation(e2idx, entities, rels, sent_bound):\n",
        "    #'T1': 0\n",
        "    #'meropenem', 'Drug', (4534, 4543)\n",
        "    #('Strength-Drug', 'T5', 'T39')\n",
        "    rn = defaultdict(list)\n",
        "    rl = []\n",
        "    for rel in rels:\n",
        "        rtype = rel[0]\n",
        "        en1 = rel[1]\n",
        "        en2 = rel[2]\n",
        "        en1_type = entities[e2idx[en1]][1]\n",
        "        en2_type = entities[e2idx[en2]][1]\n",
        "        rn[rtype].append((en1_type, en2_type))\n",
        "        en1_pos = entities[e2idx[en1]][2]\n",
        "        e1_n = en_sent_id(en1_pos, sent_bound)\n",
        "        en2_pos = entities[e2idx[en2]][2]\n",
        "        e2_n = en_sent_id(en2_pos, sent_bound)\n",
        "        rl.append(abs(e1_n-e2_n))\n",
        "    return rn, rl"
      ]
    },
    {
      "cell_type": "code",
      "execution_count": null,
      "metadata": {
        "id": "jXbu2JqgFVUG"
      },
      "outputs": [],
      "source": [
        "\"\"\"\n",
        "Output strategy:\n",
        "\n",
        "1. by cross-distance\n",
        "- no cross distance; all in one\n",
        "- by cross distance; all in unique\n",
        "- by partial cross distance; within-sentence vs. cross sentence\n",
        "\n",
        "2. relation format\n",
        "- [CLS] S1 [SEP] S2 [SEP]\n",
        "- [CLS] S1 S2 [SEP]\n",
        "\n",
        "We only handle (1) in data generation here, (2) will be handled by the data_utils\n",
        "\"\"\"\n",
        "def to_tsv(data, fn):\n",
        "    header = \"\\t\".join([str(i+1) for i in range(len(data[0]))])\n",
        "    with open(fn, \"w\") as f:\n",
        "        f.write(f\"{header}\\n\")\n",
        "        for each in data:\n",
        "            d = \"\\t\".join([str(e) for e in each])\n",
        "            f.write(f\"{d}\\n\")\n",
        "\n",
        "\n",
        "def to_5_cv(data, ofd):\n",
        "    if not os.path.isdir(ofd):\n",
        "        os.mkdir(ofd)\n",
        "    \n",
        "    np.random.seed(13)\n",
        "    np.random.shuffle(data)\n",
        "    \n",
        "    dfs = np.array_split(data, 5)\n",
        "    a = [0,1,2,3,4]\n",
        "    for each in combinations(a, 4):\n",
        "        b = list(set(a) - set(each))[0]\n",
        "        n = dfs[b]\n",
        "        m = []\n",
        "        for k in each:\n",
        "            m.extend(dfs[k])\n",
        "        if not os.path.isdir(os.path.join(ofd, f\"sample{b}\")):\n",
        "            os.mkdir(os.path.join(ofd, f\"sample{b}\"))\n",
        "        \n",
        "        to_tsv(m, os.path.join(ofd, f\"sample{b}\", \"train.tsv\"))\n",
        "        to_tsv(n, os.path.join(ofd, f\"sample{b}\", \"dev.tsv\"))\n",
        "\n",
        "\n",
        "def all_in_one(*dd, dn=\"2018n2c2\", do_train=True):\n",
        "    data = []\n",
        "    for d in dd:\n",
        "        for k, v in d.items():\n",
        "            for each in v:\n",
        "                data.append(each[1:])\n",
        "    \n",
        "    output_path = f\"../data/{dn}_aio_th{CUTOFF}\"\n",
        "    p = Path(output_path)\n",
        "    p.mkdir(parents=True, exist_ok=True)\n",
        "    \n",
        "    if do_train:\n",
        "        to_tsv(data, p/\"train.tsv\")\n",
        "        if OUTPUT_CV:\n",
        "            to_5_cv(data, p.as_posix())\n",
        "    else:\n",
        "        to_tsv(data, p/\"test.tsv\")\n",
        "    \n",
        "\n",
        "def all_in_unique(*dd, dn=\"2018n2c2\", do_train=True):\n",
        "    for idx in range(CUTOFF+1):\n",
        "        data = []\n",
        "        for d in dd:\n",
        "            for k, v in d.items():\n",
        "                for each in v:\n",
        "                    if k == idx:\n",
        "                        data.append(each[1:])\n",
        "        \n",
        "        output_path = f\"../data/{dn}_aiu_th{CUTOFF}\"\n",
        "        p = Path(output_path) / f\"cutoff_{idx}\"\n",
        "        p.mkdir(parents=True, exist_ok=True)\n",
        "        if do_train:\n",
        "            to_tsv(data, p/\"train.tsv\")\n",
        "            if OUTPUT_CV:\n",
        "                to_5_cv(data, p.as_posix())\n",
        "        else:\n",
        "            to_tsv(data, p/\"test.tsv\")"
      ]
    },
    {
      "cell_type": "markdown",
      "metadata": {
        "id": "8rcmNOwFFVUH"
      },
      "source": [
        "## GLOBAL CONFIG VARIABLES"
      ]
    },
    {
      "cell_type": "code",
      "execution_count": null,
      "metadata": {
        "colab": {
          "base_uri": "https://localhost:8080/",
          "height": 35
        },
        "id": "gd3-ZbexFVUH",
        "outputId": "285858a3-71fd-4eb1-b208-b44a30c98c8a"
      },
      "outputs": [
        {
          "output_type": "execute_result",
          "data": {
            "text/plain": [
              "'\\nWe did not automated this process\\nYou can manually create these variables\\n'"
            ],
            "application/vnd.google.colaboratory.intrinsic+json": {
              "type": "string"
            }
          },
          "metadata": {},
          "execution_count": 12
        }
      ],
      "source": [
        "\"\"\"\n",
        "We did not automated this process\n",
        "You can manually create these variables\n",
        "\"\"\""
      ]
    },
    {
      "cell_type": "code",
      "execution_count": null,
      "metadata": {
        "id": "GxIG4Z8uFVUH"
      },
      "outputs": [],
      "source": [
        "# general pre-defined special tags\n",
        "EN1_START = \"[s1]\"\n",
        "EN1_END = \"[e1]\"\n",
        "EN2_START = \"[s2]\"\n",
        "EN2_END = \"[e2]\"\n",
        "NEG_REL = \"NonRel\"\n",
        "# max valid cross sentence distance\n",
        "CUTOFF = 1\n",
        "# output 5-fold cross validation data\n",
        "OUTPUT_CV = False\n",
        "# do binary classification (if false, then we do multiclass classification)\n",
        "DO_BIN = False"
      ]
    },
    {
      "cell_type": "code",
      "source": [
        "from google.colab import drive\n",
        "drive.mount('/content/drive')"
      ],
      "metadata": {
        "colab": {
          "base_uri": "https://localhost:8080/"
        },
        "id": "y7WjWkusINtN",
        "outputId": "573b7a8e-a84e-4f80-9348-615a36f1392e"
      },
      "execution_count": null,
      "outputs": [
        {
          "output_type": "stream",
          "name": "stdout",
          "text": [
            "Mounted at /content/drive\n"
          ]
        }
      ]
    },
    {
      "cell_type": "code",
      "execution_count": null,
      "metadata": {
        "id": "ICMT6-7TFVUI"
      },
      "outputs": [],
      "source": [
        "n2c2_training = \"/content/drive/MyDrive/chia/chia_with_scope/\"\n",
        "n2c2_test = \"/content/drive/MyDrive/test_data_Tasks1&3/\""
      ]
    },
    {
      "cell_type": "code",
      "source": [
        "def to_BIO_tsv(data, fn):\n",
        "    #header = \"\\t\".join([str(i+1) for i in range(len(data[0]))])\n",
        "    with open(fn, \"w\") as f:\n",
        "        #f.write(f\"{header}\\n\")\n",
        "        for each in data:\n",
        "            for ea in each:\n",
        "              d = \"\\t\".join([str(e) for e in [ea[0], ea[3]]])\n",
        "              print(d)\n",
        "              f.write(f\"{d}\\n\")\n",
        "            "
      ],
      "metadata": {
        "id": "UK5GKke3V-Tp"
      },
      "execution_count": null,
      "outputs": []
    },
    {
      "cell_type": "code",
      "source": [
        "## get training stats\n",
        "file_ids = [fn.stem for fn in Path(n2c2_training).glob(\"*.ann\")]\n",
        "train_length = round(len(file_ids)*0.74)\n",
        "dev_length = train_length + round(len(file_ids)*0.13)\n",
        "\n",
        "print(file_ids[:train_length])\n",
        "print(\"total training files: \", len(file_ids))\n",
        "\n",
        "relation_types = set()\n",
        "ann_rel_comb = defaultdict(list)\n",
        "rel_sent_dis = []\n",
        "with open('/content/drive/MyDrive/BioMegatron/ChiaNER/DATA_DIR/NER/train.tsv', \"w\") as f1:\n",
        "  for each_file in file_ids[:train_length]:\n",
        "      input_file = n2c2_training + \"/\" + each_file + \".txt\"\n",
        "      ann_file = n2c2_training + \"/\" +  each_file + \".ann\"\n",
        "      txt, sents = pre_processing(input_file, MIMICIII_PATTERN)\n",
        "      e2idx, entities, rels = read_annotation_brat(ann_file)\n",
        "      nsents, sent_bound = generate_BIO(sents, entities)\n",
        "      for each in nsents:\n",
        "            for ea in each:\n",
        "              d = \"\\t\".join([str(e) for e in [ea[0], ea[3]]])\n",
        "              f1.write(f\"{d}\\n\")\n",
        "              if ea[0] in set(['.','?','!',';']) :\n",
        "                f1.write(\"\\n\")\n",
        "      f1.write(\"\\n\") \n",
        "\n",
        "with open('/content/drive/MyDrive/BioMegatron/ChiaNER/DATA_DIR/NER/dev.tsv', \"w\") as f2:\n",
        "  for each_file in file_ids[train_length:dev_length]:\n",
        "      input_file = n2c2_training + \"/\" + each_file + \".txt\"\n",
        "      ann_file = n2c2_training + \"/\" +  each_file + \".ann\"\n",
        "      txt, sents = pre_processing(input_file, MIMICIII_PATTERN)\n",
        "      e2idx, entities, rels = read_annotation_brat(ann_file)\n",
        "      nsents, sent_bound = generate_BIO(sents, entities)\n",
        "      for each in nsents:\n",
        "            for ea in each:\n",
        "              d = \"\\t\".join([str(e) for e in [ea[0], ea[3]]])\n",
        "              f2.write(f\"{d}\\n\")\n",
        "              if ea[0] in set(['.','?','!',';']) :\n",
        "                f2.write(\"\\n\")\n",
        "      f2.write(\"\\n\") \n",
        "\n",
        "with open('/content/drive/MyDrive/BioMegatron/ChiaNER/DATA_DIR/NER/test.tsv', \"w\") as f3:\n",
        "  for each_file in file_ids[dev_length:]:\n",
        "      input_file = n2c2_training + \"/\" + each_file + \".txt\"\n",
        "      ann_file = n2c2_training + \"/\" +  each_file + \".ann\"\n",
        "      txt, sents = pre_processing(input_file, MIMICIII_PATTERN)\n",
        "      e2idx, entities, rels = read_annotation_brat(ann_file)\n",
        "      nsents, sent_bound = generate_BIO(sents, entities)\n",
        "      for each in nsents:\n",
        "            for ea in each:\n",
        "              d = \"\\t\".join([str(e) for e in [ea[0], ea[3]]])\n",
        "              f3.write(f\"{d}\\n\") \n",
        "              if ea[0] in set(['.','?','!',';']) :\n",
        "                f3.write(\"\\n\")    \n",
        "      f3.write(\"\\n\") \n",
        "    # er_comb, er_n = extract_entity_comb_for_relation(e2idx, entities, rels, sent_bound)\n",
        "    # rel_sent_dis.extend(er_n)\n",
        "    # for k, v in er_comb.items():\n",
        "    #     for vv in v:\n",
        "    #         ann_rel_comb[k].append(vv)\n",
        "    \n",
        "    # for each in rels:\n",
        "    #     relation_types.add(each[0])"
      ],
      "metadata": {
        "colab": {
          "base_uri": "https://localhost:8080/"
        },
        "id": "u3FdqiVaZkzi",
        "outputId": "bc480fa9-f748-4531-f491-3ccc4b8c7474"
      },
      "execution_count": null,
      "outputs": [
        {
          "output_type": "stream",
          "name": "stdout",
          "text": [
            "['NCT01497639_inc', 'NCT02970773_inc', 'NCT02675153_exc', 'NCT03066440_exc', 'NCT02918409_inc', 'NCT02430740_inc', 'NCT01000155_exc', 'NCT01809041_inc', 'NCT02375295_exc', 'NCT02715518_exc', 'NCT01579604_exc', 'NCT02364648_exc', 'NCT03140423_inc', 'NCT02804126_inc', 'NCT02537899_exc', 'NCT02455921_inc', 'NCT01895946_inc', 'NCT02566928_exc', 'NCT01205334_inc', 'NCT02985242_exc', 'NCT02773173_inc', 'NCT02330757_inc', 'NCT02807857_inc', 'NCT03045562_exc', 'NCT02466113_exc', 'NCT01912651_exc', 'NCT02462317_exc', 'NCT02957877_exc', 'NCT03373318_inc', 'NCT02961582_inc', 'NCT01373684_exc', 'NCT02537899_inc', 'NCT01803438_exc', 'NCT02735902_exc', 'NCT01816997_inc', 'NCT03234816_exc', 'NCT03228017_inc', 'NCT02283905_exc', 'NCT03177811_exc', 'NCT00440245_exc', 'NCT02390973_inc', 'NCT00324363_exc', 'NCT02827487_inc', 'NCT02951520_inc', 'NCT01314898_exc', 'NCT02478346_inc', 'NCT02426034_inc', 'NCT00182520_exc', 'NCT03064867_exc', 'NCT02102243_inc', 'NCT03195153_inc', 'NCT03119766_exc', 'NCT02137369_inc', 'NCT01929434_exc', 'NCT00846703_exc', 'NCT00954850_exc', 'NCT02789111_exc', 'NCT03339284_exc', 'NCT02219880_exc', 'NCT02205931_inc', 'NCT02526823_inc', 'NCT03079141_exc', 'NCT03338855_inc', 'NCT00480129_exc', 'NCT02825290_inc', 'NCT02851888_exc', 'NCT01630954_exc', 'NCT02121145_inc', 'NCT01720394_exc', 'NCT03056287_exc', 'NCT03011476_inc', 'NCT01715584_inc', 'NCT02652572_inc', 'NCT02964416_inc', 'NCT01410890_exc', 'NCT00609531_exc', 'NCT02689817_exc', 'NCT02413970_inc', 'NCT02046395_exc', 'NCT01440296_inc', 'NCT02985242_inc', 'NCT02885909_inc', 'NCT02384850_exc', 'NCT02851303_inc', 'NCT03011177_inc', 'NCT00962364_inc', 'NCT02429583_inc', 'NCT01650792_inc', 'NCT01084993_exc', 'NCT02678962_inc', 'NCT01217671_inc', 'NCT02609425_exc', 'NCT02810704_inc', 'NCT00404495_inc', 'NCT03297944_exc', 'NCT03070847_exc', 'NCT02101554_inc', 'NCT02974686_inc', 'NCT02940912_exc', 'NCT02361905_inc', 'NCT03027115_exc', 'NCT02884115_inc', 'NCT02714725_exc', 'NCT03278548_inc', 'NCT02951754_exc', 'NCT01320579_inc', 'NCT02489045_exc', 'NCT01491295_inc', 'NCT02940912_inc', 'NCT02162433_exc', 'NCT02671318_inc', 'NCT02807857_exc', 'NCT02744976_inc', 'NCT03034733_inc', 'NCT00586898_exc', 'NCT00894712_inc', 'NCT03070847_inc', 'NCT02687178_inc', 'NCT02557412_exc', 'NCT02580630_inc', 'NCT03045562_inc', 'NCT02952963_inc', 'NCT02592980_exc', 'NCT02596555_exc', 'NCT02473809_inc', 'NCT00728156_exc', 'NCT02844907_exc', 'NCT02777580_inc', 'NCT02969876_exc', 'NCT03249311_inc', 'NCT01943812_exc', 'NCT03103204_exc', 'NCT02959801_inc', 'NCT02456129_inc', 'NCT02689024_inc', 'NCT02762851_exc', 'NCT02759861_inc', 'NCT03260881_exc', 'NCT02627560_inc', 'NCT02871206_exc', 'NCT02637453_inc', 'NCT02015494_inc', 'NCT03347513_exc', 'NCT00404495_exc', 'NCT00235170_exc', 'NCT02939872_inc', 'NCT02365870_exc', 'NCT02150590_exc', 'NCT00343668_exc', 'NCT03168178_inc', 'NCT02573909_exc', 'NCT02604459_exc', 'NCT03356834_inc', 'NCT02566863_exc', 'NCT02645474_inc', 'NCT03318874_exc', 'NCT02566863_inc', 'NCT01978028_exc', 'NCT03208465_exc', 'NCT01815580_exc', 'NCT03124329_exc', 'NCT00886158_exc', 'NCT02502734_exc', 'NCT00679341_exc', 'NCT02905734_inc', 'NCT02528604_exc', 'NCT00198913_inc', 'NCT01631058_inc', 'NCT02053246_exc', 'NCT00962364_exc', 'NCT02627521_exc', 'NCT02396420_inc', 'NCT00965900_exc', 'NCT03019562_exc', 'NCT02821819_exc', 'NCT02579200_inc', 'NCT02667730_inc', 'NCT02920177_exc', 'NCT02445339_exc', 'NCT03360214_inc', 'NCT02420015_exc', 'NCT03004261_exc', 'NCT02281643_inc', 'NCT00867958_inc', 'NCT02933671_exc', 'NCT01352598_exc', 'NCT02167022_exc', 'NCT02546856_exc', 'NCT02369211_inc', 'NCT02944604_exc', 'NCT02339974_exc', 'NCT00502567_inc', 'NCT02664558_exc', 'NCT02664558_inc', 'NCT00343668_inc', 'NCT02837783_exc', 'NCT00994786_exc', 'NCT02858804_exc', 'NCT02477280_inc', 'NCT02950558_exc', 'NCT02787070_exc', 'NCT01501201_inc', 'NCT03177837_inc', 'NCT03317197_inc', 'NCT01856491_inc', 'NCT03209687_exc', 'NCT02790593_inc', 'NCT02318446_exc', 'NCT02550028_inc', 'NCT01491295_exc', 'NCT02747940_exc', 'NCT03390933_exc', 'NCT02247128_exc', 'NCT03208998_inc', 'NCT02601157_inc', 'NCT03333655_exc', 'NCT02046395_inc', 'NCT03338296_inc', 'NCT02862314_exc', 'NCT00235170_inc', 'NCT02498483_exc', 'NCT02781610_exc', 'NCT02579928_exc', 'NCT00379366_exc', 'NCT02295202_exc', 'NCT03337581_exc', 'NCT03106389_inc', 'NCT02707874_inc', 'NCT03329456_exc', 'NCT03372265_exc', 'NCT01907230_inc', 'NCT02209545_inc', 'NCT02992028_inc', 'NCT03118232_inc', 'NCT01684501_inc', 'NCT03228498_exc', 'NCT02609698_inc', 'NCT02337764_inc', 'NCT02823808_inc', 'NCT03231982_exc', 'NCT03352869_inc', 'NCT01888965_exc', 'NCT02303171_inc', 'NCT01098383_exc', 'NCT02764476_exc', 'NCT02379156_exc', 'NCT02156999_inc', 'NCT03126214_exc', 'NCT02804646_inc', 'NCT02907554_inc', 'NCT03173092_inc', 'NCT02714725_inc', 'NCT02649114_exc', 'NCT03338855_exc', 'NCT02986659_exc', 'NCT01963754_inc', 'NCT02464865_inc', 'NCT03249272_inc', 'NCT03015818_exc', 'NCT01669369_exc', 'NCT03082573_exc', 'NCT01993836_exc', 'NCT03026088_inc', 'NCT03019562_inc', 'NCT03333655_inc', 'NCT02944604_inc', 'NCT03263481_inc', 'NCT02957305_exc', 'NCT02273791_exc', 'NCT02984228_exc', 'NCT02531724_inc', 'NCT00379366_inc', 'NCT02570230_exc', 'NCT02542956_inc', 'NCT02303171_exc', 'NCT02394158_inc', 'NCT02429765_inc', 'NCT02632318_exc', 'NCT02121145_exc', 'NCT03117608_inc', 'NCT02550769_exc', 'NCT02704754_inc', 'NCT02195024_inc', 'NCT02635893_exc', 'NCT03376763_exc', 'NCT01117181_exc', 'NCT02830360_exc', 'NCT03320057_exc', 'NCT03190304_inc', 'NCT01717911_inc', 'NCT01518946_exc', 'NCT03004209_inc', 'NCT01424020_exc', 'NCT02105090_inc', 'NCT02805504_exc', 'NCT01177891_inc', 'NCT03159507_exc', 'NCT02590315_inc', 'NCT02456129_exc', 'NCT03315975_exc', 'NCT02842424_exc', 'NCT02858804_inc', 'NCT03340740_exc', 'NCT03147599_exc', 'NCT01866800_inc', 'NCT02816164_exc', 'NCT02208739_exc', 'NCT01531257_inc', 'NCT02653131_inc', 'NCT02701881_inc', 'NCT02334722_inc', 'NCT00679341_inc', 'NCT01084993_inc', 'NCT02488057_inc', 'NCT01944800_inc', 'NCT00812344_exc', 'NCT01743755_inc', 'NCT01642875_exc', 'NCT02652572_exc', 'NCT01680081_inc', 'NCT03236246_inc', 'NCT02571881_inc', 'NCT02782702_inc', 'NCT02686021_exc', 'NCT02632760_exc', 'NCT02509091_inc', 'NCT02393287_exc', 'NCT00324363_inc', 'NCT02467686_inc', 'NCT03043495_inc', 'NCT01799681_inc', 'NCT02984475_exc', 'NCT02732080_exc', 'NCT01218737_inc', 'NCT02579928_inc', 'NCT00730301_inc', 'NCT00527826_inc', 'NCT02560389_inc', 'NCT02406885_inc', 'NCT02897856_inc', 'NCT00785213_exc', 'NCT02167022_inc', 'NCT03187639_inc', 'NCT03250507_exc', 'NCT01806558_exc', 'NCT03173092_exc', 'NCT03185130_inc', 'NCT03216447_inc', 'NCT02707809_inc', 'NCT02833116_exc', 'NCT02415257_exc', 'NCT00461136_inc', 'NCT03096613_inc', 'NCT02755701_inc', 'NCT00182520_inc', 'NCT02322203_inc', 'NCT02733159_exc', 'NCT02323399_inc', 'NCT03068897_inc', 'NCT02990403_exc', 'NCT03275584_exc', 'NCT01942109_inc', 'NCT02675153_inc', 'NCT02944929_exc', 'NCT02567214_inc', 'NCT02900443_inc', 'NCT02903407_exc', 'NCT02528136_exc', 'NCT02314559_inc', 'NCT02607319_exc', 'NCT03104816_inc', 'NCT00502567_exc', 'NCT02432404_exc', 'NCT02003339_inc', 'NCT03154931_inc', 'NCT02141061_exc', 'NCT02974686_exc', 'NCT01709981_inc', 'NCT02903407_inc', 'NCT03080493_inc', 'NCT03369379_exc', 'NCT02072811_inc', 'NCT02431442_exc', 'NCT02939209_exc', 'NCT03147599_inc', 'NCT02621541_inc', 'NCT02361892_exc', 'NCT02109081_exc', 'NCT02348918_exc', 'NCT01497639_exc', 'NCT02632760_inc', 'NCT01911650_exc', 'NCT01483118_inc', 'NCT01715714_inc', 'NCT02726009_inc', 'NCT02019160_exc', 'NCT01809041_exc', 'NCT02872935_inc', 'NCT02203019_inc', 'NCT01717911_exc', 'NCT01391780_exc', 'NCT01770340_exc', 'NCT01891513_exc', 'NCT02593409_inc', 'NCT02566226_inc', 'NCT02315287_inc', 'NCT02360631_inc', 'NCT03282006_exc', 'NCT02627560_exc', 'NCT02797548_inc', 'NCT02443844_inc', 'NCT02566226_exc', 'NCT03129555_exc', 'NCT02678377_inc', 'NCT03256864_inc', 'NCT02747940_inc', 'NCT02430740_exc', 'NCT02893293_inc', 'NCT02380118_exc', 'NCT02912182_inc', 'NCT02897856_exc', 'NCT02550769_inc', 'NCT02566928_inc', 'NCT02687724_exc', 'NCT01664507_exc', 'NCT01088750_exc', 'NCT02380118_inc', 'NCT03355326_inc', 'NCT03339284_inc', 'NCT01909934_exc', 'NCT01715714_exc', 'NCT03350815_inc', 'NCT02982577_inc', 'NCT02844907_inc', 'NCT00401245_exc', 'NCT01116973_exc', 'NCT02062489_inc', 'NCT03044093_inc', 'NCT02944292_exc', 'NCT03017053_exc', 'NCT02406495_exc', 'NCT03317197_exc', 'NCT01856491_exc', 'NCT02607163_inc', 'NCT03129555_inc', 'NCT01770340_inc', 'NCT03350659_exc', 'NCT03026465_exc', 'NCT01312012_inc', 'NCT02281643_exc', 'NCT03099408_inc', 'NCT02923700_exc', 'NCT02256943_inc', 'NCT01446094_inc', 'NCT02713087_inc', 'NCT01680081_exc', 'NCT01943409_inc', 'NCT02620904_exc', 'NCT03196843_exc', 'NCT02827526_exc', 'NCT02334722_exc', 'NCT03187379_exc', 'NCT00650312_inc', 'NCT02760459_exc', 'NCT03149887_inc', 'NCT03126214_inc', 'NCT02858180_exc', 'NCT00317148_exc', 'NCT01891383_inc', 'NCT02022709_exc', 'NCT01401335_exc', 'NCT00886158_inc', 'NCT03169127_exc', 'NCT03171987_inc', 'NCT01078051_inc', 'NCT02961764_inc', 'NCT02527512_inc', 'NCT00426751_inc', 'NCT02287259_inc', 'NCT01261832_exc', 'NCT02056626_inc', 'NCT00599924_exc', 'NCT02437045_exc', 'NCT02652637_inc', 'NCT02528604_inc', 'NCT02457442_inc', 'NCT03372304_exc', 'NCT03372265_inc', 'NCT01032109_exc', 'NCT03199560_exc', 'NCT00970866_inc', 'NCT01700790_exc', 'NCT02035904_exc', 'NCT03182114_exc', 'NCT02529475_exc', 'NCT02322203_exc', 'NCT03297021_exc', 'NCT03115320_inc', 'NCT03388840_exc', 'NCT02196285_inc', 'NCT03228017_exc', 'NCT03122119_inc', 'NCT02893228_inc', 'NCT03099863_exc', 'NCT03241368_exc', 'NCT02986659_inc', 'NCT02256956_exc', 'NCT02489045_inc', 'NCT02715466_inc', 'NCT03134196_inc', 'NCT03029078_exc', 'NCT02965027_exc', 'NCT01959061_inc', 'NCT02256956_inc', 'NCT03120533_exc', 'NCT01866800_exc', 'NCT02055053_exc', 'NCT01236417_inc', 'NCT00787254_exc', 'NCT02531971_inc', 'NCT02600000_inc', 'NCT01895946_exc', 'NCT02420015_inc', 'NCT02092467_inc', 'NCT02515773_exc', 'NCT03234816_inc', 'NCT02222272_exc', 'NCT02942303_inc', 'NCT00344318_inc', 'NCT02109081_inc', 'NCT02760251_inc', 'NCT03259243_inc', 'NCT01807897_inc', 'NCT03305575_exc', 'NCT02283996_inc', 'NCT01116882_inc', 'NCT03382106_exc', 'NCT03381755_exc', 'NCT02570347_inc', 'NCT02933671_inc', 'NCT02251249_exc', 'NCT02992938_inc', 'NCT02746900_exc', 'NCT02035800_exc', 'NCT01978028_inc', 'NCT02823808_exc', 'NCT02883400_exc', 'NCT02564471_inc', 'NCT02203019_exc', 'NCT00445029_exc', 'NCT03305666_inc', 'NCT02698969_exc', 'NCT01177891_exc', 'NCT03388840_inc', 'NCT02225548_exc', 'NCT03044093_exc', 'NCT03164304_inc', 'NCT02406495_inc', 'NCT01088750_inc', 'NCT02644629_exc', 'NCT02481518_inc', 'NCT02034019_inc', 'NCT01051414_exc', 'NCT03209011_inc', 'NCT03017053_inc', 'NCT02701777_inc', 'NCT02678377_exc', 'NCT02656394_inc', 'NCT02950558_inc', 'NCT03335436_inc', 'NCT02488057_exc', 'NCT01218737_exc', 'NCT02357654_inc', 'NCT02504203_inc', 'NCT01009359_inc', 'NCT02077556_exc', 'NCT03208244_inc', 'NCT03016741_exc', 'NCT01742117_exc', 'NCT03008005_inc', 'NCT02056626_exc', 'NCT02164734_exc', 'NCT02227992_inc', 'NCT02689089_inc', 'NCT02408120_inc', 'NCT03064568_exc', 'NCT02882113_exc', 'NCT02565277_exc', 'NCT02437084_inc', 'NCT02330705_exc', 'NCT02273791_inc', 'NCT01997580_inc', 'NCT02695992_inc', 'NCT03389061_inc', 'NCT01567605_exc', 'NCT02644629_inc', 'NCT03336801_inc', 'NCT02340169_inc', 'NCT02907554_exc', 'NCT02884115_exc', 'NCT02483715_inc', 'NCT01884337_exc', 'NCT02562456_exc', 'NCT00425789_inc', 'NCT02678962_exc', 'NCT00904202_inc', 'NCT01082549_inc', 'NCT01807897_exc', 'NCT02937779_exc', 'NCT02390973_exc', 'NCT01765231_inc', 'NCT02845427_inc', 'NCT02360631_exc', 'NCT03146390_exc', 'NCT02818816_exc', 'NCT02570321_exc', 'NCT03226080_exc', 'NCT00305097_inc', 'NCT02257580_exc', 'NCT02034019_exc', 'NCT01794793_inc', 'NCT02339844_inc', 'NCT02632318_inc', 'NCT03387059_exc', 'NCT01943409_exc', 'NCT02748330_inc', 'NCT00785213_inc', 'NCT02609048_inc', 'NCT02584140_exc', 'NCT02867618_inc', 'NCT02946918_inc', 'NCT02905734_exc', 'NCT03176316_inc', 'NCT00527826_exc', 'NCT01803828_exc', 'NCT02890719_exc', 'NCT02893293_exc', 'NCT03297021_inc', 'NCT03146390_inc', 'NCT03156855_inc', 'NCT03376763_inc', 'NCT03120728_inc', 'NCT02968342_exc', 'NCT01801072_inc', 'NCT02937779_inc', 'NCT02997215_inc', 'NCT03016741_inc', 'NCT02765217_inc', 'NCT01846507_inc', 'NCT02056288_exc', 'NCT02364648_inc', 'NCT01980680_inc', 'NCT00846703_inc', 'NCT00954850_inc', 'NCT01757717_inc', 'NCT02735577_exc', 'NCT02781610_inc', 'NCT02785549_exc', 'NCT02106598_exc', 'NCT00867958_exc', 'NCT03168178_exc', 'NCT02467686_exc', 'NCT03134378_exc', 'NCT02299063_inc', 'NCT01884337_inc', 'NCT02637076_exc', 'NCT03140488_exc', 'NCT02476461_exc', 'NCT02580630_exc', 'NCT00894712_exc', 'NCT01959425_inc', 'NCT00639795_exc', 'NCT02106624_exc', 'NCT01032109_inc', 'NCT01313676_inc', 'NCT02673359_exc', 'NCT02787863_exc', 'NCT01664507_inc', 'NCT01581749_inc', 'NCT02570230_inc', 'NCT02464865_exc', 'NCT03223909_exc', 'NCT01967420_exc', 'NCT02777580_exc', 'NCT03115151_exc', 'NCT02970773_exc', 'NCT02892968_exc', 'NCT02953873_inc', 'NCT03034837_inc', 'NCT00965900_inc', 'NCT03360214_exc', 'NCT00752310_exc', 'NCT02831166_exc', 'NCT02573909_inc', 'NCT02900443_exc', 'NCT02667730_exc', 'NCT00401245_inc', 'NCT02695992_exc', 'NCT00931983_exc', 'NCT03043495_exc', 'NCT02707874_exc', 'NCT03228238_exc', 'NCT02859480_inc', 'NCT02560766_exc', 'NCT02478515_exc', 'NCT02632266_inc', 'NCT02330705_inc', 'NCT01346436_inc', 'NCT03249311_exc', 'NCT03123562_exc', 'NCT02698969_inc', 'NCT01801072_exc', 'NCT03226080_inc', 'NCT03034096_exc', 'NCT03181984_exc', 'NCT02571179_exc', 'NCT03033745_inc', 'NCT02260700_inc', 'NCT02106598_inc', 'NCT02312960_inc', 'NCT02393287_inc', 'NCT01064752_inc', 'NCT03373669_exc', 'NCT02208739_inc', 'NCT02908919_exc', 'NCT02701881_exc', 'NCT02137538_inc', 'NCT03176316_exc', 'NCT02195024_exc', 'NCT03296488_inc', 'NCT02912182_exc', 'NCT02935855_exc', 'NCT02686021_inc', 'NCT02224040_exc', 'NCT00959569_exc', 'NCT02509949_exc', 'NCT01735955_exc', 'NCT02624908_inc', 'NCT02992028_exc', 'NCT01614041_exc', 'NCT02525991_exc', 'NCT02600000_exc', 'NCT02062489_exc', 'NCT02606565_inc', 'NCT02613039_inc', 'NCT00250640_exc', 'NCT02946892_exc', 'NCT03305666_exc', 'NCT02590315_exc', 'NCT03046108_inc', 'NCT01850147_inc', 'NCT02035904_inc', 'NCT03296488_exc', 'NCT02926989_inc', 'NCT02827526_inc', 'NCT02464813_inc', 'NCT02613039_exc', 'NCT02270970_exc', 'NCT03355469_exc', 'NCT02920177_inc', 'NCT03337581_inc', 'NCT02277067_exc', 'NCT03264911_exc', 'NCT01942915_inc', 'NCT00931983_inc', 'NCT02968342_inc', 'NCT02731794_exc', 'NCT01391780_inc', 'NCT02222272_inc', 'NCT03067740_inc', 'NCT02904785_inc', 'NCT02773173_exc', 'NCT03089086_exc', 'NCT02886962_exc', 'NCT01604187_exc', 'NCT00483106_exc', 'NCT02565277_inc', 'NCT02892968_inc', 'NCT01824537_exc', 'NCT02416765_exc', 'NCT02985710_inc', 'NCT02441179_inc', 'NCT02511574_exc', 'NCT02939872_exc', 'NCT03318393_exc', 'NCT02277041_exc', 'NCT02312089_exc', 'NCT02590822_exc', 'NCT02202369_inc', 'NCT02918409_exc', 'NCT02314559_exc', 'NCT00236340_exc', 'NCT00806936_inc', 'NCT03263481_exc', 'NCT01214096_inc', 'NCT02267616_exc', 'NCT02445339_inc', 'NCT00312429_inc', 'NCT02831166_inc', 'NCT02984228_inc', 'NCT02884401_exc', 'NCT02745704_exc', 'NCT02680054_inc', 'NCT00351611_exc', 'NCT03351608_inc', 'NCT02368743_inc', 'NCT03100513_inc', 'NCT02704754_exc', 'NCT02361905_exc', 'NCT02243553_inc', 'NCT01684501_exc', 'NCT02462590_exc', 'NCT02805504_inc', 'NCT02735902_inc', 'NCT02284737_exc', 'NCT00749112_inc', 'NCT02242188_exc', 'NCT03297125_inc', 'NCT02858180_inc', 'NCT02894268_exc', 'NCT02535299_inc', 'NCT02019628_exc', 'NCT02961764_exc', 'NCT03250507_inc', 'NCT02332291_exc', 'NCT02704234_inc', 'NCT02186600_inc', 'NCT02969876_inc', 'NCT02822001_exc', 'NCT01373684_inc', 'NCT02754583_exc', 'NCT03099863_inc', 'NCT02490839_exc', 'NCT02371200_exc', 'NCT01631058_exc', 'NCT02984475_inc', 'NCT03177811_inc', 'NCT01980680_exc', 'NCT02877485_inc', 'NCT03013790_inc', 'NCT03192020_inc', 'NCT02550080_inc', 'NCT02888704_exc', 'NCT02630628_exc', 'NCT02894268_inc', 'NCT02825290_exc', 'NCT02408120_exc', 'NCT02620904_inc', 'NCT03034096_inc', 'NCT02958566_inc', 'NCT03297944_inc', 'NCT02876484_inc', 'NCT02901106_inc', 'NCT03217409_exc', 'NCT01518946_inc', 'NCT03480607_inc', 'NCT03495609_inc', 'NCT03624881_exc', 'NCT03506009_exc', 'NCT03663387_exc', 'NCT03484091_inc', 'NCT03631355_exc', 'NCT03407625_inc', 'NCT03390933_inc', 'NCT03639545_exc', 'NCT03539718_exc', 'NCT03637946_inc', 'NCT03541980_exc', 'NCT03536520_exc', 'NCT03532620_exc', 'NCT03400735_exc', 'NCT03499639_inc', 'NCT03467750_inc', 'NCT03463564_inc', 'NCT03467750_exc', 'NCT03477851_exc', 'NCT03495557_inc', 'NCT03560310_inc', 'NCT03404804_exc', 'NCT03631355_inc', 'NCT03402945_inc', 'NCT03472508_exc', 'NCT03555526_inc', 'NCT03530124_exc', 'NCT03463564_exc', 'NCT03471117_exc', 'NCT03615508_inc', 'NCT03461679_exc', 'NCT03560310_exc', 'NCT03623789_inc', 'NCT03506750_inc', 'NCT03416413_inc', 'NCT03424993_exc', 'NCT03624881_inc', 'NCT03445949_exc', 'NCT03472846_inc', 'NCT03648021_inc', 'NCT03499639_exc', 'NCT03476850_inc', 'NCT03397914_inc', 'NCT03589105_inc', 'NCT03511521_inc', 'NCT03461679_inc', 'NCT03400735_inc', 'NCT03460002_inc', 'NCT03624517_inc', 'NCT03446885_exc', 'NCT03493919_exc', 'NCT03464552_inc', 'NCT03513757_inc', 'NCT03430284_inc', 'NCT03639519_inc', 'NCT03619707_inc', 'NCT03446885_inc', 'NCT03623789_exc', 'NCT03537924_inc', 'NCT03506477_inc', 'NCT03518034_inc', 'NCT03624517_exc', 'NCT03497598_exc', 'NCT03539718_inc', 'NCT03479502_inc', 'NCT03480607_exc', 'NCT03434951_inc', 'NCT03465397_inc', 'NCT03500211_exc', 'NCT03513757_exc', 'NCT03407625_exc', 'NCT03475589_exc', 'NCT03444142_exc', 'NCT03465397_exc', 'NCT03431831_exc', 'NCT03471117_inc', 'NCT03620526_exc', 'NCT03506009_inc', 'NCT03397914_exc', 'NCT03495557_exc', 'NCT03481894_exc', 'NCT03472495_inc', 'NCT03663387_inc', 'NCT03413891_exc', 'NCT03493919_inc', 'NCT03416413_exc', 'NCT03637946_exc', 'NCT03491059_exc', 'NCT03424993_inc', 'NCT03495609_exc', 'NCT03445949_inc', 'NCT03648021_exc', 'NCT03536520_inc', 'NCT03413891_inc', 'NCT03532620_inc', 'NCT03506477_exc', 'NCT03472495_exc', 'NCT03477851_inc', 'NCT03619707_exc', 'NCT03541980_inc', 'NCT03620526_inc', 'NCT03473132_inc', 'NCT03500211_inc', 'NCT03530124_inc', 'NCT03519568_inc', 'NCT03404479_exc', 'NCT03434951_exc', 'NCT03639519_exc', 'NCT03561753_inc', 'NCT03444142_inc', 'NCT03472508_inc', 'NCT03519568_exc', 'NCT03420638_exc', 'NCT03424733_exc', 'NCT03420638_inc', 'NCT03555526_exc', 'NCT03484091_exc', 'NCT03464552_exc', 'NCT03513874_inc', 'NCT03473132_exc', 'NCT03475589_inc', 'NCT03404804_inc', 'NCT03537924_exc', 'NCT03476850_exc', 'NCT03561753_exc', 'NCT03479502_exc', 'NCT03497598_inc', 'NCT03506750_exc', 'NCT03589105_exc', 'NCT03431831_inc', 'NCT03511521_exc', 'NCT03404479_inc', 'NCT03424733_inc', 'NCT03460002_exc', 'NCT03491059_inc', 'NCT03615508_exc', 'NCT03402945_exc', 'NCT03481894_inc', 'NCT03472846_exc', 'NCT03513874_exc', 'NCT03639545_inc', 'NCT03430284_exc', 'NCT03518034_exc', 'NCT02837783_inc', 'NCT03106389_exc', 'NCT03337503_inc', 'NCT03366779_inc', 'NCT03056287_inc', 'NCT02954029_exc', 'NCT02802644_inc', 'NCT02687178_exc', 'NCT02979561_inc', 'NCT00718952_inc', 'NCT03138577_inc', 'NCT00094861_inc', 'NCT03088904_exc', 'NCT02621541_exc', 'NCT02231892_exc', 'NCT00650312_exc', 'NCT02368743_exc', 'NCT01857167_inc', 'NCT02579733_exc', 'NCT02200978_exc', 'NCT03012984_inc', 'NCT03364036_inc', 'NCT02668978_inc', 'NCT02612181_inc', 'NCT02798237_inc', 'NCT02766530_inc', 'NCT02918851_exc', 'NCT02564471_exc', 'NCT02790593_exc', 'NCT01352598_inc', 'NCT02705222_exc', 'NCT02627521_inc', 'NCT02692651_exc', 'NCT03262038_inc', 'NCT03304496_inc', 'NCT03164096_inc', 'NCT02810704_exc', 'NCT02560389_exc', 'NCT01261832_inc', 'NCT01888965_inc', 'NCT03320057_inc', 'NCT02399033_inc', 'NCT02386800_exc', 'NCT03260790_inc', 'NCT02607163_exc', 'NCT02886962_inc', 'NCT02340169_exc', 'NCT02766530_exc', 'NCT03062358_inc', 'NCT02563535_inc', 'NCT02862912_exc', 'NCT02968602_inc', 'NCT02643381_inc', 'NCT00576173_exc', 'NCT03011177_exc', 'NCT01996436_exc', 'NCT02541955_exc', 'NCT02570347_exc', 'NCT02567214_exc', 'NCT02301039_inc', 'NCT03228238_inc', 'NCT03132259_exc', 'NCT00806936_exc', 'NCT01581749_exc', 'NCT02321202_exc', 'NCT03088280_inc', 'NCT02802644_exc', 'NCT02112734_inc', 'NCT01709981_exc', 'NCT02726009_exc', 'NCT02350439_inc', 'NCT00396734_exc', 'NCT03103204_inc', 'NCT02735577_inc', 'NCT01728194_inc', 'NCT02822001_inc', 'NCT02552459_inc', 'NCT02386800_inc', 'NCT02550028_exc', 'NCT02678663_exc', 'NCT02543710_exc', 'NCT03328052_inc', 'NCT03256864_exc', 'NCT00480129_inc', 'NCT02973035_inc', 'NCT03117608_exc', 'NCT01768195_exc', 'NCT02609698_exc', 'NCT01822262_inc', 'NCT02339844_exc', 'NCT02787863_inc', 'NCT02370069_inc', 'NCT03134196_exc', 'NCT02691793_inc', 'NCT03190304_exc', 'NCT02990403_inc', 'NCT01715584_exc', 'NCT02595190_exc', 'NCT03044561_inc', 'NCT02918851_inc', 'NCT02531971_exc', 'NCT03225469_exc', 'NCT02589353_inc', 'NCT02849483_exc', 'NCT03360981_inc', 'NCT02851888_inc', 'NCT01490034_inc', 'NCT02624908_exc', 'NCT02334631_inc', 'NCT02905890_inc', 'NCT00344318_exc', 'NCT03084588_exc', 'NCT02476461_inc', 'NCT02312076_inc', 'NCT03382106_inc', 'NCT03015818_inc', 'NCT00425789_exc', 'NCT02316886_inc', 'NCT03012984_exc', 'NCT03253796_inc', 'NCT02785549_inc', 'NCT02570321_inc', 'NCT02416869_exc', 'NCT02851303_exc', 'NCT02385045_inc', 'NCT01994382_exc', 'NCT02833623_exc', 'NCT03026088_exc', 'NCT02668016_inc', 'NCT02573597_exc', 'NCT02416869_inc', 'NCT01567605_inc', 'NCT03352869_exc', 'NCT02780427_exc', 'NCT01639664_inc', 'NCT02543710_inc', 'NCT00625742_exc', 'NCT02535299_exc', 'NCT02117986_exc', 'NCT02277067_inc', 'NCT01696617_exc', 'NCT02592980_inc', 'NCT02426034_exc', 'NCT01793519_inc', 'NCT00397215_inc', 'NCT02842424_inc', 'NCT02164734_inc', 'NCT02573168_inc', 'NCT02691793_exc', 'NCT02379156_inc', 'NCT03169127_inc', 'NCT03373318_exc', 'NCT01824537_inc', 'NCT01774019_inc', 'NCT02721017_inc', 'NCT03212352_exc', 'NCT03216967_inc', 'NCT01765231_exc', 'NCT01184638_inc', 'NCT02635893_inc', 'NCT03040024_inc', 'NCT02868437_inc', 'NCT03335436_exc', 'NCT03018171_inc', 'NCT03193684_exc', 'NCT02877485_exc', 'NCT02546856_inc', 'NCT00609531_inc', 'NCT02637076_inc', 'NCT03004261_inc', 'NCT00426751_exc', 'NCT02604459_inc', 'NCT00317148_inc', 'NCT02934269_exc', 'NCT03288428_exc', 'NCT02260700_exc', 'NCT01967420_inc', 'NCT02225548_inc', 'NCT02983214_inc', 'NCT02849483_inc', 'NCT03297125_exc', 'NCT02337764_exc', 'NCT03247738_exc', 'NCT02957305_inc', 'NCT03077204_exc', 'NCT02754583_inc', 'NCT03113253_exc', 'NCT03036462_inc', 'NCT03354572_exc', 'NCT02042287_exc', 'NCT02426944_exc', 'NCT02964715_exc', 'NCT02618057_exc', 'NCT01912677_exc', 'NCT02396732_exc', 'NCT02525991_inc', 'NCT00305097_exc', 'NCT02916342_inc', 'NCT03366779_exc', 'NCT02673359_inc', 'NCT02369211_exc', 'NCT01728194_exc', 'NCT02797548_exc', 'NCT02782702_exc', 'NCT01446094_exc', 'NCT01890759_inc', 'NCT02649114_inc', 'NCT01228279_inc', 'NCT02838810_exc', 'NCT01735955_inc', 'NCT02477280_exc', 'NCT00183885_exc', 'NCT00806273_inc', 'NCT00391690_inc', 'NCT00720031_exc', 'NCT02867618_exc', 'NCT00917891_exc', 'NCT02200978_inc', 'NCT01501201_exc', 'NCT02299947_exc', 'NCT02959580_inc', 'NCT02312960_exc', 'NCT02796378_exc', 'NCT01997112_inc', 'NCT00543712_inc', 'NCT02713087_exc', 'NCT02019160_inc', 'NCT01604187_inc', 'NCT01794793_exc', 'NCT02589691_exc', 'NCT01401335_inc', 'NCT02563535_exc', 'NCT02874092_exc', 'NCT02035800_inc', 'NCT02384850_inc', 'NCT03159507_inc', 'NCT03134378_inc', 'NCT01891383_exc', 'NCT03280017_exc', 'NCT03125057_inc', 'NCT02141061_inc', 'NCT02072811_exc', 'NCT02186782_exc', 'NCT02231892_inc', 'NCT03091881_exc', 'NCT02226887_exc', 'NCT02650024_inc', 'NCT02092467_exc', 'NCT02056301_inc', 'NCT03247413_inc', 'NCT03364036_exc', 'NCT03387059_inc', 'NCT03255044_exc', 'NCT02796378_inc', 'NCT03113253_inc', 'NCT03008005_exc', 'NCT01768195_inc', 'NCT02926235_exc', 'NCT02224040_inc', 'NCT03225469_inc', 'NCT02357654_exc', 'NCT02974660_inc', 'NCT03228654_inc', 'NCT02416765_inc', 'NCT02330757_exc', 'NCT02894372_inc', 'NCT01313676_exc', 'NCT01997580_exc', 'NCT02979561_exc', 'NCT02872090_inc', 'NCT00787254_inc', 'NCT00718952_exc', 'NCT02749617_exc', 'NCT00250640_inc', 'NCT02579733_inc', 'NCT02944929_inc', 'NCT03058835_inc', 'NCT02668016_exc', 'NCT03209011_exc', 'NCT02332291_inc', 'NCT03213834_exc', 'NCT03077204_inc', 'NCT00440245_inc', 'NCT03305575_inc', 'NCT03255044_inc', 'NCT02083991_exc', 'NCT02952378_inc', 'NCT00599924_inc', 'NCT02958566_exc', 'NCT03223909_inc', 'NCT03260881_inc', 'NCT03211741_exc', 'NCT02905890_exc', 'NCT02152696_exc', 'NCT03198910_inc', 'NCT02744976_exc', 'NCT02621489_exc', 'NCT00061308_inc', 'NCT01846507_exc', 'NCT03083197_exc', 'NCT02456532_exc', 'NCT02961582_exc', 'NCT02287259_exc', 'NCT02966236_inc', 'NCT02464813_exc', 'NCT03217409_inc', 'NCT01991743_inc', 'NCT02798237_exc', 'NCT02528136_inc', 'NCT03140423_exc', 'NCT02890719_inc', 'NCT02863120_exc', 'NCT02969187_inc', 'NCT00236340_inc', 'NCT03288428_inc', 'NCT02175186_inc', 'NCT01890759_exc', 'NCT02117986_inc', 'NCT03011476_exc', 'NCT01320579_exc', 'NCT03047538_inc', 'NCT02632266_exc', 'NCT03187379_inc', 'NCT03046108_exc', 'NCT02101554_exc', 'NCT02077556_inc', 'NCT02105090_exc', 'NCT02883400_inc', 'NCT02638935_inc', 'NCT02394158_exc', 'NCT01000155_inc', 'NCT02318446_inc', 'NCT02607748_inc', 'NCT03347513_inc', 'NCT01322464_inc', 'NCT03355157_exc', 'NCT00543712_exc', 'NCT01116882_exc', 'NCT01911650_inc', 'NCT02186782_inc', 'NCT02968602_exc', 'NCT00806273_exc', 'NCT03040024_exc', 'NCT01909934_inc', 'NCT03192020_exc', 'NCT01346436_exc', 'NCT02502734_inc', 'NCT02055053_inc', 'NCT02838810_inc', 'NCT02242188_inc', 'NCT02924870_exc', 'NCT02908919_inc', 'NCT00312429_exc', 'NCT01806558_inc', 'NCT00676273_exc', 'NCT02715466_exc', 'NCT02939209_inc', 'NCT02431559_exc', 'NCT01630954_inc', 'NCT03124329_inc', 'NCT03125057_exc', 'NCT02762851_inc', 'NCT03344887_inc', 'NCT02053246_inc', 'NCT02966236_exc', 'NCT01994382_inc', 'NCT02371200_inc', 'NCT02749617_inc', 'NCT02763007_exc', 'NCT02926989_exc', 'NCT03118232_exc', 'NCT02205502_exc', 'NCT03275584_inc', 'NCT03247738_inc', 'NCT02426944_inc', 'NCT02872090_exc', 'NCT02152696_inc', 'NCT00728156_inc', 'NCT01943812_inc', 'NCT02413970_exc', 'NCT01822262_exc', 'NCT03097068_inc', 'NCT02884401_inc', 'NCT02874092_inc', 'NCT03149887_exc', 'NCT03260790_exc', 'NCT02462590_inc', 'NCT02301039_exc', 'NCT02334631_exc', 'NCT01932996_inc', 'NCT02954029_inc', 'NCT02201316_inc', 'NCT02277041_inc', 'NCT02687724_inc', 'NCT00749112_exc', 'NCT02745704_inc', 'NCT03059069_inc', 'NCT02996916_inc', 'NCT02298504_exc', 'NCT02186600_exc', 'NCT02739295_inc', 'NCT03338296_exc', 'NCT02542956_exc', 'NCT01993836_inc', 'NCT02469610_inc', 'NCT03056391_exc', 'NCT02573597_inc', 'NCT02256943_exc', 'NCT03328052_exc', 'NCT02952963_exc', 'NCT01996436_inc', 'NCT03194074_inc', 'NCT02774317_inc', 'NCT02068365_exc', 'NCT03337503_exc', 'NCT02429583_exc', 'NCT03115151_inc', 'NCT02560766_inc', 'NCT03084588_inc', 'NCT03345589_inc', 'NCT00351611_inc', 'NCT00862446_inc', 'NCT03196843_inc', 'NCT02254668_exc', 'NCT02601157_exc', 'NCT02015923_inc', 'NCT03345589_exc', 'NCT02527512_exc', 'NCT02571179_inc', 'NCT02654912_inc', 'NCT02964715_inc', 'NCT00720031_inc', 'NCT02555163_inc', 'NCT00625742_inc', 'NCT02596555_inc', 'NCT00396734_inc', 'NCT03044561_exc', 'NCT02015494_exc', 'NCT00730301_exc', 'NCT01963754_exc', 'NCT03247413_exc', 'NCT02704234_exc', 'NCT03209687_inc', 'NCT01907230_exc', 'NCT00959569_inc', 'NCT01701219_exc', 'NCT01312012_exc', 'NCT02630628_inc', 'NCT02555163_exc', 'NCT02260206_exc', 'NCT01891513_inc', 'NCT02301962_inc', 'NCT02429765_exc', 'NCT02509091_exc', 'NCT03080493_exc', 'NCT00356148_exc', 'NCT02284737_inc', 'NCT02316886_exc', 'NCT02765035_inc', 'NCT03198910_exc', 'NCT02589977_inc', 'NCT02267616_inc', 'NCT02779374_inc', 'NCT02821819_inc', 'NCT02964416_exc', 'NCT03259243_exc', 'NCT00926523_inc', 'NCT02365870_inc', 'NCT03120533_inc', 'NCT02765217_exc', 'NCT02269137_inc', 'NCT02457442_exc', 'NCT01650792_exc', 'NCT02650388_inc', 'NCT01908465_exc', 'NCT02862912_inc', 'NCT01118871_inc', 'NCT02385045_exc', 'NCT00904202_exc', 'NCT01349413_exc']\n",
            "total training files:  2000\n"
          ]
        }
      ]
    }
  ],
  "metadata": {
    "kernelspec": {
      "display_name": "Python 3",
      "language": "python",
      "name": "python3"
    },
    "language_info": {
      "codemirror_mode": {
        "name": "ipython",
        "version": 3
      },
      "file_extension": ".py",
      "mimetype": "text/x-python",
      "name": "python",
      "nbconvert_exporter": "python",
      "pygments_lexer": "ipython3",
      "version": "3.7.6"
    },
    "colab": {
      "name": "N2C2_data_preprocessing(BratToBIO).ipynb",
      "provenance": [],
      "include_colab_link": true
    }
  },
  "nbformat": 4,
  "nbformat_minor": 0
}